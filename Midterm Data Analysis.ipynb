{
 "cells": [
  {
   "cell_type": "code",
   "execution_count": 2,
   "metadata": {
    "collapsed": false,
    "deletable": true,
    "editable": true
   },
   "outputs": [
    {
     "data": {
      "text/html": [
       "<div>\n",
       "<style scoped>\n",
       "    .dataframe tbody tr th:only-of-type {\n",
       "        vertical-align: middle;\n",
       "    }\n",
       "\n",
       "    .dataframe tbody tr th {\n",
       "        vertical-align: top;\n",
       "    }\n",
       "\n",
       "    .dataframe thead th {\n",
       "        text-align: right;\n",
       "    }\n",
       "</style>\n",
       "<table border=\"1\" class=\"dataframe\">\n",
       "  <thead>\n",
       "    <tr style=\"text-align: right;\">\n",
       "      <th></th>\n",
       "      <th>GiftDate</th>\n",
       "      <th>GiftAmount</th>\n",
       "      <th>GiftCode</th>\n",
       "      <th>ZipCode5</th>\n",
       "      <th>State</th>\n",
       "      <th>Gender</th>\n",
       "      <th>MaritalStatus</th>\n",
       "      <th>BirthYear</th>\n",
       "      <th>AgeAtGift</th>\n",
       "      <th>Age</th>\n",
       "      <th>Deceased</th>\n",
       "    </tr>\n",
       "  </thead>\n",
       "  <tbody>\n",
       "    <tr>\n",
       "      <th>0</th>\n",
       "      <td>1/12/1970</td>\n",
       "      <td>100.00</td>\n",
       "      <td>6</td>\n",
       "      <td>46802</td>\n",
       "      <td>in</td>\n",
       "      <td>female</td>\n",
       "      <td>NaN</td>\n",
       "      <td>1925.0</td>\n",
       "      <td>45.0</td>\n",
       "      <td>93.0</td>\n",
       "      <td>1</td>\n",
       "    </tr>\n",
       "    <tr>\n",
       "      <th>1</th>\n",
       "      <td>4/6/1970</td>\n",
       "      <td>15000.00</td>\n",
       "      <td>6</td>\n",
       "      <td>55106</td>\n",
       "      <td>mn</td>\n",
       "      <td>female</td>\n",
       "      <td>NaN</td>\n",
       "      <td>1902.0</td>\n",
       "      <td>68.0</td>\n",
       "      <td>116.0</td>\n",
       "      <td>1</td>\n",
       "    </tr>\n",
       "    <tr>\n",
       "      <th>2</th>\n",
       "      <td>4/28/1970</td>\n",
       "      <td>2300.00</td>\n",
       "      <td>6</td>\n",
       "      <td>63137</td>\n",
       "      <td>mo</td>\n",
       "      <td>female</td>\n",
       "      <td>married</td>\n",
       "      <td>1921.0</td>\n",
       "      <td>49.0</td>\n",
       "      <td>97.0</td>\n",
       "      <td>1</td>\n",
       "    </tr>\n",
       "    <tr>\n",
       "      <th>3</th>\n",
       "      <td>5/1/1970</td>\n",
       "      <td>1000.00</td>\n",
       "      <td>6</td>\n",
       "      <td>50630</td>\n",
       "      <td>ia</td>\n",
       "      <td>female</td>\n",
       "      <td>NaN</td>\n",
       "      <td>1896.0</td>\n",
       "      <td>74.0</td>\n",
       "      <td>122.0</td>\n",
       "      <td>1</td>\n",
       "    </tr>\n",
       "    <tr>\n",
       "      <th>4</th>\n",
       "      <td>5/7/1970</td>\n",
       "      <td>8664.38</td>\n",
       "      <td>6</td>\n",
       "      <td>8723</td>\n",
       "      <td>nj</td>\n",
       "      <td>male</td>\n",
       "      <td>married</td>\n",
       "      <td>1901.0</td>\n",
       "      <td>69.0</td>\n",
       "      <td>117.0</td>\n",
       "      <td>1</td>\n",
       "    </tr>\n",
       "  </tbody>\n",
       "</table>\n",
       "</div>"
      ],
      "text/plain": [
       "    GiftDate  GiftAmount  GiftCode ZipCode5 State  Gender MaritalStatus  \\\n",
       "0  1/12/1970      100.00         6    46802    in  female           NaN   \n",
       "1   4/6/1970    15000.00         6    55106    mn  female           NaN   \n",
       "2  4/28/1970     2300.00         6    63137    mo  female       married   \n",
       "3   5/1/1970     1000.00         6    50630    ia  female           NaN   \n",
       "4   5/7/1970     8664.38         6     8723    nj    male       married   \n",
       "\n",
       "   BirthYear  AgeAtGift    Age  Deceased  \n",
       "0     1925.0       45.0   93.0         1  \n",
       "1     1902.0       68.0  116.0         1  \n",
       "2     1921.0       49.0   97.0         1  \n",
       "3     1896.0       74.0  122.0         1  \n",
       "4     1901.0       69.0  117.0         1  "
      ]
     },
     "execution_count": 2,
     "metadata": {},
     "output_type": "execute_result"
    }
   ],
   "source": [
    "import csv\n",
    "import pandas as pd\n",
    "import matplotlib.pyplot as plt\n",
    "\n",
    "df = pd.read_csv('./data/data.csv')\n",
    "\n",
    "df = df.applymap(lambda s: s.lower() if type(s) == str else s)\n",
    "df.head()"
   ]
  },
  {
   "cell_type": "code",
   "execution_count": 3,
   "metadata": {
    "collapsed": false,
    "deletable": true,
    "editable": true
   },
   "outputs": [
    {
     "name": "stdout",
     "output_type": "stream",
     "text": [
      "GiftDate \t |0\n",
      "GiftAmount \t |0\n",
      "GiftCode \t |0\n",
      "ZipCode5 \t |386\n",
      "State \t \t |110\n",
      "Gender \t \t |1292\n",
      "MaritalStatus \t |7727\n",
      "BirthYear \t |7635\n",
      "AgeAtGift \t |7635\n",
      "Age \t \t |7635\n",
      "Deceased \t |0\n"
     ]
    }
   ],
   "source": [
    "print(\"GiftDate \\t |\" + str(df.GiftDate.isnull().sum()))\n",
    "print(\"GiftAmount \\t |\" + str(df.GiftAmount.isnull().sum()))\n",
    "print(\"GiftCode \\t |\" + str(df.GiftCode.isnull().sum()))\n",
    "print(\"ZipCode5 \\t |\" + str(df.ZipCode5.isnull().sum()))\n",
    "print(\"State \\t \\t |\" + str(df.State.isnull().sum()))\n",
    "print(\"Gender \\t \\t |\" + str(df.Gender.isnull().sum()))\n",
    "print(\"MaritalStatus \\t |\" + str(df.MaritalStatus.isnull().sum()))\n",
    "print(\"BirthYear \\t |\" + str(df.BirthYear.isnull().sum()))\n",
    "print(\"AgeAtGift \\t |\" + str(df.AgeAtGift.isnull().sum()))\n",
    "print(\"Age \\t \\t |\" + str(df.Age.isnull().sum()))\n",
    "print(\"Deceased \\t |\" + str(df.Deceased.isnull().sum()))"
   ]
  },
  {
   "cell_type": "code",
   "execution_count": 4,
   "metadata": {
    "collapsed": false,
    "deletable": true,
    "editable": true
   },
   "outputs": [
    {
     "name": "stderr",
     "output_type": "stream",
     "text": [
      "C:\\Users\\Harrison Lu\\AppData\\Roaming\\Python\\Python37\\site-packages\\ipykernel_launcher.py:10: DeprecationWarning: object of type <class 'numpy.float64'> cannot be safely interpreted as an integer.\n",
      "  # Remove the CWD from sys.path while we load stuff.\n"
     ]
    },
    {
     "data": {
      "image/png": "[encoded data removed]",
      "text/plain": [
       "<Figure size 432x288 with 2 Axes>"
      ]
     },
     "metadata": {},
     "output_type": "display_data"
    }
   ],
   "source": [
    "'''frequency distribution of all donations from females. each point represents frequency of donations within \n",
    "a range of approximately 500'''\n",
    "\n",
    "import numpy as np\n",
    "\n",
    "def graphFrequency(arrayValues, priceRange):\n",
    "    arrayValues = np.array(arrayValues)\n",
    "    freqDict = {}\n",
    "    rangeCounter = 0\n",
    "    amountRanges = np.linspace(min(arrayValues), max(arrayValues), max(arrayValues)/priceRange)\n",
    "    amountRanges = [-1] + amountRanges\n",
    "    for amount in np.sort(arrayValues):\n",
    "        while amount > amountRanges[rangeCounter] and rangeCounter < len(amountRanges) - 1:\n",
    "            rangeCounter += 1\n",
    "        if amountRanges[rangeCounter] in freqDict:\n",
    "            freqDict[amountRanges[rangeCounter]] += 1\n",
    "        else:\n",
    "            freqDict[amountRanges[rangeCounter]] = 1 \n",
    "    x = []\n",
    "    y = []\n",
    "    for key, value in freqDict.items():\n",
    "        x.append(key)\n",
    "        y.append(value)\n",
    "    return x, y\n",
    "    \n",
    "def plotDistributions(arrayValues, xArray, yArray):\n",
    "    plt.figure(1)\n",
    "    plt.rcParams['figure.figsize'] = [10,10]\n",
    "    \n",
    "    plt.subplot(221)\n",
    "    plt.scatter(xArray, yArray)\n",
    "    plt.gca().set_yscale(\"log\")\n",
    "    plt.gca().set_xscale(\"log\")\n",
    "    plt.title(\"Scatterplot Distribution\")\n",
    "    plt.xlabel(\"Amount Donation\")\n",
    "    plt.ylabel(\"Frequency\")\n",
    "\n",
    "    plt.subplot(222)\n",
    "    plt.hist(arrayValues, 200)\n",
    "    plt.gca().set_yscale(\"log\")\n",
    "    plt.gca().set_xscale(\"log\")\n",
    "    plt.title(\"Histogram Distribution\")\n",
    "    plt.xlabel(\"Amount Donation\")\n",
    "    plt.ylabel(\"Frequency\")\n",
    "\n",
    "    plt.show()\n",
    "\n",
    "    \n",
    "amountArrayFemale = []\n",
    "for giftAmount in df.loc[df.Gender == \"female\"].GiftAmount:\n",
    "    amountArrayFemale.append(giftAmount)\n",
    "\n",
    "x, y = graphFrequency(amountArrayFemale, 500)\n",
    "plotDistributions(amountArrayFemale, x, y)"
   ]
  },
  {
   "cell_type": "code",
   "execution_count": 5,
   "metadata": {
    "collapsed": false,
    "deletable": true,
    "editable": true
   },
   "outputs": [
    {
     "name": "stderr",
     "output_type": "stream",
     "text": [
      "C:\\Users\\Harrison Lu\\AppData\\Roaming\\Python\\Python37\\site-packages\\ipykernel_launcher.py:10: DeprecationWarning: object of type <class 'numpy.float64'> cannot be safely interpreted as an integer.\n",
      "  # Remove the CWD from sys.path while we load stuff.\n"
     ]
    },
    {
     "data": {
      "image/png": "[encoded data removed]",
      "text/plain": [
       "<Figure size 720x720 with 2 Axes>"
      ]
     },
     "metadata": {},
     "output_type": "display_data"
    }
   ],
   "source": [
    "amountArrayMale = []\n",
    "for giftAmount in df.loc[df.Gender == \"male\"].GiftAmount:\n",
    "    amountArrayMale.append(giftAmount)\n",
    "\n",
    "x, y = graphFrequency(amountArrayMale, 500)\n",
    "plotDistributions(amountArrayMale, x, y)"
   ]
  },
  {
   "cell_type": "code",
   "execution_count": 6,
   "metadata": {
    "collapsed": false,
    "deletable": true,
    "editable": true,
    "scrolled": false
   },
   "outputs": [
    {
     "name": "stdout",
     "output_type": "stream",
     "text": [
      "Female donation mean: 29627.987199012437 with SD: 128406.84594312916. Median: 4025.04\n",
      "Male donation mean: 31557.353209241475 with SD: 123429.64764353145. Median: 5000.0\n",
      "        GiftDate  GiftAmount  GiftCode ZipCode5 State  Gender MaritalStatus  \\\n",
      "7110   8/18/1997  5402615.00         5    65049    mo    male           NaN   \n",
      "19650  2/23/2010  4100000.00         4      NaN    ne    male       married   \n",
      "3191   3/12/1992  3867500.00         5    60143    il    male       widowed   \n",
      "9969    2/2/2001  3400000.00         5    88033    nm    male           NaN   \n",
      "24685   5/4/2016  3051002.21         4    48625    mi  female     separated   \n",
      "\n",
      "       BirthYear  AgeAtGift    Age  Deceased  \n",
      "7110      1915.0       82.0  103.0         1  \n",
      "19650     1922.0       88.0   96.0         1  \n",
      "3191      1913.0       79.0  105.0         1  \n",
      "9969      1941.0       60.0   77.0         0  \n",
      "24685     1943.0       73.0   75.0         0  \n",
      "        GiftDate  GiftAmount  GiftCode ZipCode5 State Gender MaritalStatus  \\\n",
      "26660  7/13/2018         0.0        24      NaN   NaN    NaN           NaN   \n",
      "26659  7/13/2018         0.0        21      NaN   NaN    NaN           NaN   \n",
      "26661  7/13/2018         0.0        12      NaN   NaN    NaN           NaN   \n",
      "26656  7/13/2018         0.0         5      NaN   NaN    NaN           NaN   \n",
      "26655  7/13/2018         0.0        11      NaN   NaN    NaN           NaN   \n",
      "\n",
      "       BirthYear  AgeAtGift  Age  Deceased  \n",
      "26660        NaN        NaN  NaN         0  \n",
      "26659        NaN        NaN  NaN         0  \n",
      "26661        NaN        NaN  NaN         0  \n",
      "26656        NaN        NaN  NaN         0  \n",
      "26655        NaN        NaN  NaN         0  \n"
     ]
    }
   ],
   "source": [
    "'''look at span of data, impossible to estimate with just a few variables'''\n",
    "def avgGiftGender(gender):\n",
    "    total = 0\n",
    "    count = 0\n",
    "    for giftAmount in df.loc[df.Gender == gender].GiftAmount:\n",
    "        total += giftAmount\n",
    "        count += 1\n",
    "    return total/count\n",
    "\n",
    "amountArrayFemale = np.array(amountArrayFemale)\n",
    "amountArrayMale = np.array(amountArrayMale)\n",
    "\n",
    "\n",
    "# print(\"Average donation for females are: %s\" % (avgGiftGender(\"female\")))\n",
    "# print(\"Average donation for males are: %s\" % (avgGiftGender(\"male\")))\n",
    "\n",
    "print(f\"Female donation mean: {np.average(amountArrayFemale)} with SD: {np.std(amountArrayFemale)}. Median: {np.median(amountArrayFemale)}\")\n",
    "print(f\"Male donation mean: {np.average(amountArrayMale)} with SD: {np.std(amountArrayMale)}. Median: {np.median(amountArrayMale)}\")\n",
    "\n",
    "df2 = df.sort_values(by=['GiftAmount'], ascending = False)\n",
    "print(df2.head())\n",
    "df2 = df.sort_values(by=['GiftAmount'], ascending = True)\n",
    "print(df2.head())"
   ]
  },
  {
   "cell_type": "code",
   "execution_count": 7,
   "metadata": {
    "collapsed": false,
    "deletable": true,
    "editable": true
   },
   "outputs": [
    {
     "name": "stdout",
     "output_type": "stream",
     "text": [
      "{'me': [136544.676, 5], 'hi': [105834.03111111112, 9], 'nh': [91720.41666666667, 27], 'ga': [83669.50353846155, 65], 'ae': [83180.0, 5]}\n",
      "{'ap': [1000.0, 1], 'dc': [1000.0, 3], 'as': [2500.0, 1], 'nj': [2959.7411626506, 1660], 'sc': [4891.42074074074, 81]}\n",
      "{'mn': [26493.670730268517, 2458], 'wi': [25110.013050064183, 2337], 'mo': [35909.4481853095, 2294], 'il': [31686.553878461542, 1950], 'mi': [22540.276409560018, 1841]}\n",
      "{'ap': [1000.0, 1], 'as': [2500.0, 1], 'dc': [1000.0, 3], 'ae': [83180.0, 5], 'me': [136544.676, 5]}\n"
     ]
    }
   ],
   "source": [
    "'''try a few more independent variables, see results'''\n",
    "#look at state\n",
    "import operator\n",
    "\n",
    "def analyzeIndependentVariable(independentVar):\n",
    "    varDict = {}\n",
    "    for index, row in df.iterrows():\n",
    "        variable = row[independentVar]\n",
    "        if variable != \"nan\":\n",
    "            if variable in varDict:\n",
    "                varDict[variable] = [varDict[variable][0], varDict[variable][1] + row[\"GiftAmount\"], varDict[variable][2] + 1]\n",
    "            else:\n",
    "                varDict[variable] = [index, row[\"GiftAmount\"], 1]\n",
    "\n",
    "    for key, value in varDict.items():\n",
    "        varDict[key] = [varDict[key][1]/varDict[key][2], varDict[key][2]]\n",
    "\n",
    "    sortedDictHighAvg = dict(sorted(varDict.items(), key=operator.itemgetter(1), reverse=True)[:5])\n",
    "    sortedDictLowAvg = dict(sorted(varDict.items(), key=operator.itemgetter(1), reverse=False)[:5])\n",
    "    sortedDictHighCount = dict(sorted(varDict.items(), key=lambda x: x[1][1], reverse=True)[:5])\n",
    "    sortedDictLowCount = dict(sorted(varDict.items(), key=lambda x: x[1][1], reverse=False)[:5])\n",
    "\n",
    "    return varDict, sortedDictHighAvg, sortedDictLowAvg, sortedDictHighCount, sortedDictLowCount\n",
    "\n",
    "stateDict, sortedDictHighAvg, sortedDictLowAvg, sortedDictHighCount, sortedDictLowCount = analyzeIndependentVariable(\"State\")\n",
    "print(sortedDictHighAvg)\n",
    "print(sortedDictLowAvg)\n",
    "print(sortedDictHighCount)\n",
    "print(sortedDictLowCount)\n",
    "\n",
    "\n"
   ]
  },
  {
   "cell_type": "code",
   "execution_count": 8,
   "metadata": {
    "collapsed": false,
    "deletable": true,
    "editable": true,
    "scrolled": true
   },
   "outputs": [
    {
     "name": "stdout",
     "output_type": "stream",
     "text": [
      "ap | 1000.0 | 1\n",
      "as | 2500.0 | 1\n",
      "dc | 1000.0 | 3\n",
      "ae | 83180.0 | 5\n",
      "me | 136544.676 | 5\n"
     ]
    }
   ],
   "source": [
    "def prettyPrintDict(dictionary):\n",
    "    for key, value in dictionary.items():\n",
    "        print(str(key) + \" | \" + str(value[0]) + \" | \" + str(value[1]))\n",
    "        \n",
    "prettyPrintDict(sortedDictLowCount)"
   ]
  },
  {
   "cell_type": "markdown",
   "metadata": {
    "deletable": true,
    "editable": true
   },
   "source": [
    "State | Average Donation ($) | Number of Donations\n",
    "--|--|--\n",
    "ap | 1000.0 | 1\n",
    "as | 2500.0 | 1\n",
    "dc | 1000.0 | 3\n",
    "ae | 83180.0 | 5\n",
    "me | 136544.676 | 5"
   ]
  },
  {
   "cell_type": "code",
   "execution_count": 9,
   "metadata": {
    "collapsed": false,
    "deletable": true,
    "editable": true
   },
   "outputs": [
    {
     "name": "stdout",
     "output_type": "stream",
     "text": [
      "{'65049': [5402615.0, 1], '33067': [2480000.0, 1], '98407': [2100000.0, 1], '67402': [1647279.6666666667, 3], '60143': [1290166.6666666667, 3]}\n",
      "{'58801': [1.0, 1], '75701': [1.0, 1], '68343': [1.0, 2], '48030': [1.0, 3], '22152': [1.0, 5]}\n",
      "{nan: [96984.5844559586, 386], '32765': [21659.160483870968, 217], '46514': [2462.8750632911324, 158], '56031': [26657.207337662316, 154], '68434': [35225.86749999999, 152]}\n",
      "{'68862': [600.0, 1], '32505': [1000.0, 1], '7042': [10000.0, 1], '22407': [1000.0, 1], '53525': [2000.0, 1]}\n"
     ]
    }
   ],
   "source": [
    "'''try zip code'''\n",
    "\n",
    "zipDict, sortedDictHighAvg, sortedDictLowAvg, sortedDictHighCount, sortedDictLowCount = analyzeIndependentVariable(\"ZipCode5\")\n",
    "    \n",
    "print(sortedDictHighAvg)\n",
    "print(sortedDictLowAvg)\n",
    "print(sortedDictHighCount)\n",
    "print(sortedDictLowCount)\n"
   ]
  },
  {
   "cell_type": "code",
   "execution_count": 10,
   "metadata": {
    "collapsed": false,
    "deletable": true,
    "editable": true
   },
   "outputs": [
    {
     "name": "stdout",
     "output_type": "stream",
     "text": [
      "68862 | 600.0 | 1\n",
      "32505 | 1000.0 | 1\n",
      "7042 | 10000.0 | 1\n",
      "22407 | 1000.0 | 1\n",
      "53525 | 2000.0 | 1\n"
     ]
    }
   ],
   "source": [
    "prettyPrintDict(sortedDictLowCount)"
   ]
  },
  {
   "cell_type": "markdown",
   "metadata": {
    "deletable": true,
    "editable": true
   },
   "source": [
    "Zip Code | Average Donation ($) | Number of Donations\n",
    "--|--|--\n",
    "68862 | 600.0 | 1\n",
    "32505 | 1000.0 | 1\n",
    "7042 | 10000.0 | 1\n",
    "22407 | 1000.0 | 1\n",
    "53525 | 2000.0 | 1"
   ]
  },
  {
   "cell_type": "code",
   "execution_count": 11,
   "metadata": {
    "collapsed": false,
    "deletable": true,
    "editable": true
   },
   "outputs": [
    {
     "name": "stdout",
     "output_type": "stream",
     "text": [
      "{'married': [30173.151209176733, 13589], 'widow': [75090.942839779, 905], 'widowed': [33602.34934706545, 1772], 'single': [26462.13000781305, 2803], 'divorced': [43440.126081081085, 74], 'separated': [290104.9442307692, 26], 'u': [5000.0, 1]}\n",
      "married | 30173.151209176733 | 13589\n",
      "widow | 75090.942839779 | 905\n",
      "widowed | 33602.34934706545 | 1772\n",
      "single | 26462.13000781305 | 2803\n",
      "divorced | 43440.126081081085 | 74\n",
      "separated | 290104.9442307692 | 26\n",
      "u | 5000.0 | 1\n"
     ]
    }
   ],
   "source": [
    "'''try marital status'''\n",
    "\n",
    "maritalStatusDict = {}\n",
    "for index, row in df.iterrows():\n",
    "    married = row[\"MaritalStatus\"]\n",
    "    if str(married) != \"nan\":\n",
    "        if married in maritalStatusDict:\n",
    "            maritalStatusDict[married] = [maritalStatusDict[married][0], maritalStatusDict[married][1] + row[\"GiftAmount\"], maritalStatusDict[married][2] + 1]\n",
    "        else:\n",
    "            maritalStatusDict[married] = [index, row[\"GiftAmount\"], 1]\n",
    "\n",
    "for key, value in maritalStatusDict.items():\n",
    "    maritalStatusDict[key] = [maritalStatusDict[key][1]/maritalStatusDict[key][2], maritalStatusDict[key][2]]\n",
    "    \n",
    "print(maritalStatusDict)\n",
    "\n",
    "prettyPrintDict(maritalStatusDict)"
   ]
  },
  {
   "cell_type": "markdown",
   "metadata": {
    "deletable": true,
    "editable": true
   },
   "source": [
    "Marital Status | Average Donation ($) | Number of Donations\n",
    "--|--|--\n",
    "married | 30173.151209176733 | 13589\n",
    "widow | 75090.942839779 | 905\n",
    "widowed | 33602.34934706545 | 1772\n",
    "single | 26462.13000781305 | 2803\n",
    "divorced | 43440.126081081085 | 74\n",
    "separated | 290104.9442307692 | 26"
   ]
  },
  {
   "cell_type": "code",
   "execution_count": 12,
   "metadata": {
    "collapsed": false,
    "deletable": true,
    "editable": true
   },
   "outputs": [
    {
     "data": {
      "text/plain": [
       "Text(0,0.5,'Age')"
      ]
     },
     "execution_count": 12,
     "metadata": {},
     "output_type": "execute_result"
    },
    {
     "data": {
      "image/png": "[encoded data removed]",
      "text/plain": [
       "<Figure size 720x720 with 1 Axes>"
      ]
     },
     "metadata": {},
     "output_type": "display_data"
    }
   ],
   "source": [
    "'''try age at gift'''\n",
    "\n",
    "ageDonationArray = []\n",
    "for index, row in df.iterrows():\n",
    "    age = row[\"AgeAtGift\"]\n",
    "    donation = row[\"GiftAmount\"]\n",
    "    if str(age) != \"nan\":\n",
    "        ageDonationArray.append((age, donation))\n",
    "        \n",
    "ageDict = {}\n",
    "rangeCounter = 0\n",
    "amountRanges = np.linspace(0, 150, 50)\n",
    "for age, amount in sorted(ageDonationArray, key = lambda x: x[0], reverse = False):\n",
    "    while age > amountRanges[rangeCounter] and rangeCounter < len(amountRanges) - 1:\n",
    "        rangeCounter += 1\n",
    "    if amountRanges[rangeCounter] in ageDict:\n",
    "        ageDict[amountRanges[rangeCounter]][0] += amount\n",
    "        ageDict[amountRanges[rangeCounter]][1] += 1\n",
    "    else:\n",
    "        ageDict[amountRanges[rangeCounter]] = [amount, 1]\n",
    "\n",
    "x = []\n",
    "y = []\n",
    "yAvg = []\n",
    "\n",
    "for key, value in ageDict.items():\n",
    "    averageValue = value[0]/value[1]\n",
    "    x.append(key)\n",
    "    y.append(averageValue)\n",
    "    \n",
    "\n",
    "plt.scatter(x, y)\n",
    "plt.plot(x, y)\n",
    "plt.title(\"Age vs Average Amount Donated\")\n",
    "plt.xlabel(\"Amount Donated\")\n",
    "plt.ylabel(\"Age\")"
   ]
  },
  {
   "cell_type": "code",
   "execution_count": 13,
   "metadata": {
    "collapsed": false,
    "deletable": true,
    "editable": true
   },
   "outputs": [
    {
     "data": {
      "image/png": "[encoded data removed]",
      "text/plain": [
       "<Figure size 720x720 with 2 Axes>"
      ]
     },
     "metadata": {},
     "output_type": "display_data"
    }
   ],
   "source": [
    "'''total donations per year'''\n",
    "import re\n",
    "\n",
    "yearDonationArray = []\n",
    "for index, row in df.iterrows():\n",
    "    date = row[\"GiftDate\"]\n",
    "    match = re.search(r'(\\d+)\\/(\\d+)\\/(\\d+)', date)\n",
    "    year = match.group(3)\n",
    "    donation = row[\"GiftAmount\"]\n",
    "    if str(year) != \"nan\":\n",
    "        yearDonationArray.append((year, donation))\n",
    "        \n",
    "yearDict = {}\n",
    "for year, amount in sorted(yearDonationArray, key = lambda x: x[0], reverse = False):\n",
    "    if year in yearDict:\n",
    "        yearDict[year][0] += amount\n",
    "        yearDict[year][1] += 1\n",
    "    else:\n",
    "        yearDict[year] = [amount, 1]\n",
    "\n",
    "x = []\n",
    "yAmount = []\n",
    "yCount = []\n",
    "\n",
    "for key, value in yearDict.items():\n",
    "#    averageValue = value[0]/value[1]\n",
    "    averageValue = value[0]\n",
    "    x.append(int(key))\n",
    "    yAmount.append(float(averageValue))\n",
    "    yCount.append(int(value[1]))\n",
    "    \n",
    "plt.figure(1)\n",
    "plt.rcParams['figure.figsize'] = [10, 10]\n",
    "\n",
    "plt.subplot(221)\n",
    "plt.scatter(x, yAmount)\n",
    "z = np.polyfit(x, yAmount, 1)\n",
    "p = np.poly1d(z)\n",
    "plt.plot(x, p(x), 'r--')\n",
    "plt.plot(x, yAmount)\n",
    "plt.xlim(xmin=1965)\n",
    "plt.title(\"Total Donation Amount\")\n",
    "plt.xlabel(\"Year\")\n",
    "plt.ylabel(\"Amount\")\n",
    "\n",
    "plt.subplot(222)\n",
    "plt.scatter(x, yCount)\n",
    "z = np.polyfit(x, yCount, 1)\n",
    "p = np.poly1d(z)\n",
    "plt.plot(x, p(x), 'r--')\n",
    "plt.plot(x, yCount)\n",
    "plt.xlim(xmin=1965)\n",
    "plt.title(\"Total Number of Donations\")\n",
    "plt.xlabel(\"Year\")\n",
    "plt.ylabel(\"Amount\")\n",
    "\n",
    "plt.show()"
   ]
  },
  {
   "cell_type": "code",
   "execution_count": 14,
   "metadata": {
    "collapsed": false,
    "deletable": true,
    "editable": true
   },
   "outputs": [
    {
     "name": "stdout",
     "output_type": "stream",
     "text": [
      "Mean score in 5000 trials is: 0.6720889646385445 with SD 0.20070590443530278\n"
     ]
    }
   ],
   "source": [
    "'''regresion with number of people who donates as well as year of donations'''\n",
    "from sklearn.linear_model import LinearRegression as linReg\n",
    "from sklearn.model_selection import train_test_split as crossval\n",
    "\n",
    "features = []\n",
    "labels = []\n",
    "\n",
    "for key, value in yearDict.items():\n",
    "    features.append([int(key), value[1]])\n",
    "    labels.append(value[0])\n",
    "\n",
    "scores = []\n",
    "for x in range(5000):\n",
    "    XTrain, XTest, yTrain, yTest = crossval(features, labels, test_size = 0.2)\n",
    "    model = linReg().fit(XTrain, yTrain)\n",
    "    scores.append(model.score(XTest, yTest))\n",
    "    \n",
    "scores = np.array(scores)\n",
    "print(f\"Mean score in {len(scores)} trials is: {np.average(scores)} with SD {np.std(scores)}\")"
   ]
  },
  {
   "cell_type": "code",
   "execution_count": 15,
   "metadata": {
    "collapsed": false,
    "deletable": true,
    "editable": true
   },
   "outputs": [
    {
     "name": "stdout",
     "output_type": "stream",
     "text": [
      "[40, 11, 30, 2, 45, 2, 9, 6, 14, 42, 38, 33, 7, 17, 48, 10, 38, 24, 3, 37, 33, 18, 33, 19, 1]\n",
      "49\n",
      "28\n"
     ]
    },
    {
     "data": {
      "image/png": "[encoded data removed]",
      "text/plain": [
       "<Figure size 720x720 with 1 Axes>"
      ]
     },
     "metadata": {},
     "output_type": "display_data"
    }
   ],
   "source": [
    "'''plot of actual vs regression model'''\n",
    "import random\n",
    "removeIndex = [random.randint(1, len(features)) for x in range(25)]\n",
    "\n",
    "print(removeIndex)\n",
    "\n",
    "features1 = []\n",
    "labels1 = []\n",
    "\n",
    "for x in range(len(features)):\n",
    "    if not (x in removeIndex):\n",
    "        features1.append(features[x])\n",
    "        labels1.append(labels[x])\n",
    "        \n",
    "print(len(features))\n",
    "print(len(features1))\n",
    "\n",
    "XTrain, XTest, yTrain, yTest = crossval(features1, labels1, test_size = 0.2)\n",
    "model = linReg().fit(XTrain, yTrain)\n",
    "\n",
    "\n",
    "\n",
    "xActual = []\n",
    "yActual = []\n",
    "\n",
    "xPredicted = []\n",
    "yPredicted = []\n",
    "\n",
    "for year, amount in yearDict.items():\n",
    "    xActual.append(int(year))\n",
    "    yActual.append(amount[0])\n",
    "    xPredicted.append(int(year))\n",
    "    yPredicted.append(model.predict([[int(year), amount[1]]]))\n",
    "    \n",
    "plt.title(\"Actual versus Predicted Data with Reduced Dataset\")\n",
    "plt.xlabel(\"Year\")\n",
    "plt.ylabel(\"Amount\")\n",
    "plt.scatter(xActual, yActual, color = 'b')\n",
    "plt.plot(xActual, yActual, color = 'b', label = \"Actual\")\n",
    "plt.scatter(xPredicted, yPredicted, color = 'r')\n",
    "plt.plot(xPredicted, yPredicted, color = 'r', label = \"Predicted\")\n",
    "plt.legend()\n",
    "plt.show()\n"
   ]
  },
  {
   "cell_type": "code",
   "execution_count": 16,
   "metadata": {
    "collapsed": false,
    "deletable": true,
    "editable": true
   },
   "outputs": [
    {
     "name": "stdout",
     "output_type": "stream",
     "text": [
      "R value squared mean: 0.7456272426128416. SD: 0.009484452784232145\n",
      "SD mean: 0.08410092715637664. SD: 0.008062398975930429\n"
     ]
    }
   ],
   "source": [
    "import scipy\n",
    "\n",
    "def testRandomRemovalStatistics(features, labels):\n",
    "    removeIndex = [random.randint(1, len(features)) for x in range(25)]\n",
    "    features1 = []\n",
    "    labels1 = []\n",
    "    for x in range(len(features)):\n",
    "        if not (x in removeIndex):\n",
    "            features1.append(features[x])\n",
    "            labels1.append(labels[x])\n",
    "    XTrain, XTest, yTrain, yTest = crossval(features1, labels1, test_size = 0.2)\n",
    "    model = linReg().fit(XTrain, yTrain)\n",
    "    xActual = []\n",
    "    yActual = []\n",
    "    xPredicted = []\n",
    "    yPredicted = []\n",
    "    for year, amount in yearDict.items():\n",
    "        xActual.append(int(year))\n",
    "        yActual.append(amount[0])\n",
    "        xPredicted.append(int(year))\n",
    "        yPredicted.append(model.predict([[int(year), amount[1]]]))\n",
    "    yPredicted = np.array(yPredicted).reshape(49)\n",
    "    return yPredicted\n",
    "def statistics(x, y):\n",
    "    slope, intercept, r_value, p_value, std_err = scipy.stats.linregress(x, y)\n",
    "    return slope, intercept, r_value**2, p_value, std_err\n",
    "\n",
    "y = []\n",
    "std_errArray = []\n",
    "r_valueSquaredArray = []\n",
    "for year, summation in yearDict.items():\n",
    "    y.append(summation[0])\n",
    "    \n",
    "for x in range(1000): \n",
    "    yPredicted = testRandomRemovalStatistics(features, labels)\n",
    "    slope, intercept, r_valueSquared, p_value, std_err = statistics(yPredicted, y)\n",
    "    std_errArray.append(std_err)\n",
    "    r_valueSquaredArray.append(r_valueSquared)\n",
    "    \n",
    "std_errArray = np.array(std_errArray)\n",
    "r_valueSquaredArray = np.array(r_valueSquaredArray)\n",
    "\n",
    "print(f\"R value squared mean: {np.average(r_valueSquaredArray)}. SD: {np.std(r_valueSquaredArray)}\")\n",
    "print(f\"SD mean: {np.average(std_errArray)}. SD: {np.std(std_errArray)}\")"
   ]
  },
  {
   "cell_type": "code",
   "execution_count": 17,
   "metadata": {
    "collapsed": false,
    "deletable": true,
    "editable": true
   },
   "outputs": [
    {
     "data": {
      "image/png": "[encoded data removed]",
      "text/plain": [
       "<Figure size 720x720 with 1 Axes>"
      ]
     },
     "metadata": {},
     "output_type": "display_data"
    }
   ],
   "source": [
    "'''linear combination of different regressions'''\n",
    "\n",
    "yearAgeArray = []\n",
    "yearArray = []\n",
    "ageArray = []\n",
    "for index, row in df.iterrows():\n",
    "    age = row[\"AgeAtGift\"]\n",
    "    year = re.search(r'(\\d+)\\/(\\d+)\\/(\\d+)', row[\"GiftDate\"]).group(3)\n",
    "    yearArray.append(year)\n",
    "    if str(age) != \"nan\":\n",
    "        yearAgeArray.append((year, age))\n",
    "\n",
    "yearArray = sorted(set(yearArray))\n",
    "\n",
    "\n",
    "ageYearDict = {}\n",
    "rangeCounter = 0\n",
    "amountRanges = np.linspace(0, 150, 50)\n",
    "for year, age in sorted(yearAgeArray, key = lambda x: x[1], reverse = False):\n",
    "    while age > amountRanges[rangeCounter] and rangeCounter < len(amountRanges) - 1:\n",
    "        rangeCounter += 1\n",
    "    roundedAge = round(amountRanges[rangeCounter])\n",
    "    if year in ageYearDict:\n",
    "        if roundedAge in ageYearDict[year]:\n",
    "            ageYearDict[year][roundedAge] += 1\n",
    "        else:\n",
    "            ageYearDict[year][roundedAge] = 1\n",
    "    else:\n",
    "        ageYearDict[year] = {roundedAge : 1}\n",
    "\n",
    "# for year, ageDict in sorted(ageYearDict.items(), reverse = False):\n",
    "#     for x in amountRanges:\n",
    "#         x = round(x)\n",
    "#         ageDict\n",
    "\n",
    "ageYearTimeDict = {}\n",
    "\n",
    "for age in amountRanges:\n",
    "    ageYearCount = []\n",
    "    age = round(age)\n",
    "    for year in yearArray:\n",
    "        if age in ageYearDict[year]:\n",
    "            ageYearCount.append(ageYearDict[year][age])\n",
    "        else:\n",
    "            ageYearCount.append(0)\n",
    "    ageYearTimeDict[age] = ageYearCount\n",
    "    \n",
    "yearArray = np.array([int(year) for year in yearArray]).reshape(-1, 1)\n",
    "ageModelDict = {}\n",
    "\n",
    "for age, counts in ageYearTimeDict.items():\n",
    "    model = linReg().fit(yearArray, counts)\n",
    "    ageModelDict[age] = model\n",
    "    \n",
    "roundedAgeDict = {}\n",
    "for age, amount in ageDict.items():\n",
    "    roundedAgeDict[round(age)] = [ageDict[age][0]/ageDict[age][1]]\n",
    "    roundedAgeDict[round(age)].append(ageDict[age][1])\n",
    "    \n",
    "predictedSums = {}\n",
    "for year in yearArray:\n",
    "    summation = 0.\n",
    "    for age, model in ageModelDict.items():\n",
    "        if age in roundedAgeDict:\n",
    "            summation += float(model.predict(int(year))) * float(roundedAgeDict[age][0])\n",
    "    predictedSums[int(year)] = summation\n",
    "\n",
    "xActual = []\n",
    "yActual = []\n",
    "xPredicted = []\n",
    "yPredicted = []\n",
    "for year, amount in yearDict.items():\n",
    "    xActual.append(int(year))\n",
    "    yActual.append(amount[0])\n",
    "    xPredicted.append(int(year))\n",
    "    yPredicted.append(predictedSums[int(year)])\n",
    "    \n",
    "plt.title(\"Linear Combination of Age Regressions and Average Amount Donated per Age Group\")\n",
    "plt.xlabel(\"Year\")\n",
    "plt.ylabel(\"Amount\")\n",
    "plt.scatter(xActual, yActual, color = 'b')\n",
    "plt.plot(xActual, yActual, color = 'b', label = \"Actual\")\n",
    "plt.scatter(xPredicted, yPredicted, color = 'r')\n",
    "plt.plot(xPredicted, yPredicted, color = 'r', label = \"Predicted\")\n",
    "plt.legend()\n",
    "plt.show()"
   ]
  },
  {
   "cell_type": "code",
   "execution_count": 18,
   "metadata": {
    "collapsed": false,
    "deletable": true,
    "editable": true
   },
   "outputs": [
    {
     "name": "stdout",
     "output_type": "stream",
     "text": [
      "(1.1537326970461135, -559023.0832470674, 0.47452582723729325, 4.457330651862366e-08, 0.1770932597039812)\n"
     ]
    }
   ],
   "source": [
    "'''evaluation of above combination'''\n",
    "import scipy\n",
    "\n",
    "def statistics(x, y):\n",
    "    slope, intercept, r_value, p_value, std_err = scipy.stats.linregress(x, y)\n",
    "    return slope, intercept, r_value**2, p_value, std_err\n",
    "\n",
    "x = []\n",
    "y = []\n",
    "\n",
    "\n",
    "for year, summation in predictedSums.items():\n",
    "    x.append(summation)\n",
    "for year, summation in yearDict.items():\n",
    "    y.append(summation[0])\n",
    "    \n",
    "print(statistics(x, y))\n"
   ]
  },
  {
   "cell_type": "code",
   "execution_count": 64,
   "metadata": {
    "collapsed": false,
    "deletable": true,
    "editable": true,
    "scrolled": false
   },
   "outputs": [
    {
     "name": "stdout",
     "output_type": "stream",
     "text": [
      "Predicted data for year 2018 is 1116\n",
      "Predicted data for year 2019 is 1134\n",
      "Predicted data for year 2020 is 1172\n",
      "Predicted data for year 2021 is 1222\n",
      "Predicted data for year 2022 is 1206\n",
      "Predicted data for year 2023 is 1098\n",
      "Predicted data for year 2024 is 1067\n",
      "Predicted data for year 2025 is 929\n",
      "Predicted data for year 2026 is 891\n",
      "Predicted data for year 2027 is 863\n",
      "Predicted data for year 2028 is 843\n",
      "Predicted data for year 2029 is 838\n",
      "Predicted data for year 2030 is 820\n",
      "Predicted data for year 2031 is 818\n",
      "Predicted data for year 2032 is 832\n",
      "Predicted data for year 2033 is 873\n",
      "Predicted data for year 2034 is 950\n",
      "Predicted data for year 2035 is 980\n",
      "Predicted data for year 2036 is 1045\n",
      "Predicted data for year 2037 is 1082\n",
      "Predicted data for year 2038 is 1130\n",
      "Predicted data for year 2039 is 1182\n",
      "Predicted data for year 2040 is 1177\n",
      "Predicted data for year 2041 is 1137\n",
      "Predicted data for year 2042 is 1057\n",
      "Predicted data for year 2043 is 986\n",
      "Predicted data for year 2044 is 917\n",
      "Predicted data for year 2045 is 878\n",
      "Predicted data for year 2046 is 855\n",
      "Predicted data for year 2047 is 839\n",
      "Predicted data for year 2048 is 828\n",
      "Predicted data for year 2049 is 824\n",
      "Predicted data for year 2050 is 836\n",
      "Predicted data for year 2051 is 872\n",
      "Predicted data for year 2052 is 918\n",
      "Predicted data for year 2053 is 973\n",
      "Predicted data for year 2054 is 1020\n",
      "Predicted data for year 2055 is 1069\n",
      "Predicted data for year 2056 is 1113\n",
      "Predicted data for year 2057 is 1161\n",
      "Predicted data for year 2058 is 1181\n",
      "Predicted data for year 2059 is 1148\n",
      "Predicted data for year 2060 is 1102\n",
      "Predicted data for year 2061 is 1018\n",
      "Predicted data for year 2062 is 962\n",
      "Predicted data for year 2063 is 912\n",
      "Predicted data for year 2064 is 877\n",
      "Predicted data for year 2065 is 853\n",
      "Predicted data for year 2066 is 839\n",
      "Predicted data for year 2067 is 827\n",
      "Predicted data for year 2068 is 826\n",
      "Predicted data for year 2069 is 841\n",
      "Predicted data for year 2070 is 876\n",
      "Predicted data for year 2071 is 929\n",
      "Predicted data for year 2072 is 975\n",
      "Predicted data for year 2073 is 1028\n",
      "Predicted data for year 2074 is 1077\n",
      "Predicted data for year 2075 is 1121\n",
      "Predicted data for year 2076 is 1163\n",
      "Predicted data for year 2077 is 1172\n",
      "Predicted data for year 2078 is 1141\n",
      "Predicted data for year 2079 is 1078\n",
      "Predicted data for year 2080 is 1005\n",
      "Predicted data for year 2081 is 944\n",
      "Predicted data for year 2082 is 896\n",
      "Predicted data for year 2083 is 862\n",
      "Predicted data for year 2084 is 843\n",
      "Predicted data for year 2085 is 833\n",
      "Predicted data for year 2086 is 826\n",
      "Predicted data for year 2087 is 831\n",
      "Predicted data for year 2088 is 855\n",
      "Predicted data for year 2089 is 899\n",
      "Predicted data for year 2090 is 956\n",
      "Predicted data for year 2091 is 1000\n",
      "Predicted data for year 2092 is 1054\n",
      "Predicted data for year 2093 is 1098\n",
      "Predicted data for year 2094 is 1143\n",
      "Predicted data for year 2095 is 1174\n",
      "Predicted data for year 2096 is 1159\n",
      "Predicted data for year 2097 is 1114\n",
      "Predicted data for year 2098 is 1039\n",
      "Predicted data for year 2099 is 974\n",
      "Predicted data for year 2100 is 917\n",
      "0.6403242289904909\n",
      "0.1002262224859512\n"
     ]
    },
    {
     "data": {
      "text/plain": [
       "<matplotlib.collections.PathCollection at 0x291ba4987b8>"
      ]
     },
     "execution_count": 64,
     "metadata": {},
     "output_type": "execute_result"
    },
    {
     "data": {
      "image/png": "[encoded data removed]",
      "text/plain": [
       "<Figure size 720x720 with 1 Axes>"
      ]
     },
     "metadata": {},
     "output_type": "display_data"
    }
   ],
   "source": [
    "'''knn to predict number of people who donate in a particular year'''\n",
    "'''usage: data = [values of features from 1970 to 2017]. \n",
    "          frame = number of features to include for label and number of neighbors \n",
    "          year = year desired to predict for data using kNR (k- nearest regression)'''\n",
    "from sklearn.neighbors import KNeighborsRegressor as kNN\n",
    "decadeData = []\n",
    "toPredictArray = []\n",
    "\n",
    "for x in range(1970, 2018):\n",
    "    decadeData.append(yearDict[str(x)][1])\n",
    "    \n",
    "def genFeatureDict(data, frame): \n",
    "    featureDict = []\n",
    "    x = frame\n",
    "    for x in range(frame, len(data)):\n",
    "        valuesArray = [data[x]]\n",
    "        for y in range(x-frame, x):\n",
    "            valuesArray.append(data[y])\n",
    "        featureDict.append(valuesArray)\n",
    "    return featureDict\n",
    "\n",
    "def generateFeaturesLabels(dictionary, frame): \n",
    "    labels = []\n",
    "    features = []\n",
    "    for x in dictionary:\n",
    "        labels.append(x[0])\n",
    "        features.append(x[1:])\n",
    "    return features, labels\n",
    "\n",
    "def generateToPredictArray(dictionary, year, frame):\n",
    "    year1 = year + 1\n",
    "    for x in range(year-frame, year):\n",
    "        outputArray.append(dictionary)\n",
    "\n",
    "def predictValueForFutureYear(data, frame, year):\n",
    "    if frame <= 2: \n",
    "        print(\"frame must be greater than 2\")\n",
    "        return\n",
    "    generatedData = data[:]\n",
    "    x = 2018 + len(data) - 48\n",
    "    featureDict = genFeatureDict(generatedData, frame)\n",
    "    features, labels = generateFeaturesLabels(featureDict, frame)\n",
    "    while x <= year:\n",
    "        model = kNN(n_neighbors = 4)\n",
    "        model.fit(features, labels)\n",
    "        toPredictArray = generatedData[-(frame):]\n",
    "        prediction = int(model.predict([toPredictArray]))\n",
    "        generatedData.append(prediction)\n",
    "        featureDict = genFeatureDict(generatedData, frame)\n",
    "        features, labels = generateFeaturesLabels(featureDict, frame)\n",
    "        x += 1\n",
    "    return generatedData, prediction\n",
    "\n",
    "def evaluateModel(data):\n",
    "    featureArray = genFeatureDict(data, 10)\n",
    "    actualValues = data[:]\n",
    "    predictedValues = []\n",
    "    alreadyProcessed = []\n",
    "    toBeEliminated = []\n",
    "    while featureArray:\n",
    "        toBeEliminated = featureArray.pop(0)\n",
    "        features, labels = generateFeaturesLabels(alreadyProcessed + featureArray, 10)\n",
    "        model = kNN(n_neighbors = 4)\n",
    "        model.fit(features, labels)\n",
    "        predictedValues.append(float(model.predict([toBeEliminated[1:]])))\n",
    "        alreadyProcessed.append(toBeEliminated)\n",
    "    slope, intercept, r_valueSquared, p_value, std_err = statistics(predictedValues, actualValues[10:])\n",
    "    return r_valueSquared, std_err, actualValues, predictedValues\n",
    "\n",
    "\n",
    "predictValueForFutureYear(decadeData, 10, 2100)\n",
    "r_valueSquared, std_err, actualValues, predictedValues = evaluateModel(decadeData)\n",
    "\n",
    "print(r_valueSquared)\n",
    "print(std_err)\n",
    "plt.scatter(actualValues[10:], predictedValues)"
   ]
  },
  {
   "cell_type": "code",
   "execution_count": 66,
   "metadata": {
    "collapsed": false,
    "deletable": true,
    "editable": true,
    "scrolled": false
   },
   "outputs": [
    {
     "name": "stdout",
     "output_type": "stream",
     "text": [
      "Predicted data for year 2018 is 1116\n",
      "Predicted data for year 2019 is 1134\n",
      "Predicted data for year 2020 is 1172\n",
      "Predicted data for year 2021 is 1222\n",
      "Predicted data for year 2022 is 1206\n",
      "Predicted data for year 2023 is 1098\n",
      "Predicted data for year 2024 is 1067\n",
      "Predicted data for year 2025 is 929\n",
      "Predicted data for year 2026 is 891\n",
      "Predicted data for year 2027 is 863\n",
      "Predicted data for year 2028 is 843\n",
      "Predicted data for year 2029 is 838\n",
      "Predicted data for year 2030 is 820\n",
      "Predicted data for year 2031 is 818\n",
      "Predicted data for year 2032 is 832\n",
      "Predicted data for year 2033 is 873\n",
      "Predicted data for year 2034 is 950\n",
      "Predicted data for year 2035 is 980\n",
      "Predicted data for year 2036 is 1045\n",
      "Predicted data for year 2037 is 1082\n",
      "Predicted data for year 2038 is 1130\n",
      "Predicted data for year 2039 is 1182\n",
      "Predicted data for year 2040 is 1177\n",
      "Predicted data for year 2041 is 1137\n",
      "Predicted data for year 2042 is 1057\n",
      "Predicted data for year 2043 is 986\n",
      "Predicted data for year 2044 is 917\n",
      "Predicted data for year 2045 is 878\n",
      "Predicted data for year 2046 is 855\n",
      "Predicted data for year 2047 is 839\n",
      "Predicted data for year 2048 is 828\n",
      "Predicted data for year 2049 is 824\n",
      "Predicted data for year 2050 is 836\n",
      "Predicted data for year 2051 is 872\n",
      "Predicted data for year 2052 is 918\n",
      "Predicted data for year 2053 is 973\n",
      "Predicted data for year 2054 is 1020\n",
      "Predicted data for year 2055 is 1069\n",
      "Predicted data for year 2056 is 1113\n",
      "Predicted data for year 2057 is 1161\n",
      "Predicted data for year 2058 is 1181\n",
      "Predicted data for year 2059 is 1148\n",
      "Predicted data for year 2060 is 1102\n",
      "Predicted data for year 2061 is 1018\n",
      "Predicted data for year 2062 is 962\n",
      "Predicted data for year 2063 is 912\n",
      "Predicted data for year 2064 is 877\n",
      "Predicted data for year 2065 is 853\n",
      "Predicted data for year 2066 is 839\n",
      "Predicted data for year 2067 is 827\n",
      "Predicted data for year 2068 is 826\n",
      "Predicted data for year 2069 is 841\n",
      "Predicted data for year 2070 is 876\n",
      "Predicted data for year 2071 is 929\n",
      "Predicted data for year 2072 is 975\n",
      "Predicted data for year 2073 is 1028\n",
      "Predicted data for year 2074 is 1077\n",
      "Predicted data for year 2075 is 1121\n",
      "Predicted data for year 2076 is 1163\n",
      "Predicted data for year 2077 is 1172\n",
      "Predicted data for year 2078 is 1141\n",
      "Predicted data for year 2079 is 1078\n",
      "Predicted data for year 2080 is 1005\n",
      "Predicted data for year 2081 is 944\n",
      "Predicted data for year 2082 is 896\n",
      "Predicted data for year 2083 is 862\n",
      "Predicted data for year 2084 is 843\n",
      "Predicted data for year 2085 is 833\n",
      "Predicted data for year 2086 is 826\n",
      "Predicted data for year 2087 is 831\n",
      "Predicted data for year 2088 is 855\n",
      "Predicted data for year 2089 is 899\n",
      "Predicted data for year 2090 is 956\n",
      "Predicted data for year 2091 is 1000\n",
      "Predicted data for year 2092 is 1054\n",
      "Predicted data for year 2093 is 1098\n",
      "Predicted data for year 2094 is 1143\n",
      "Predicted data for year 2095 is 1174\n",
      "Predicted data for year 2096 is 1159\n",
      "Predicted data for year 2097 is 1114\n",
      "Predicted data for year 2098 is 1039\n",
      "Predicted data for year 2099 is 974\n",
      "Predicted data for year 2100 is 917\n",
      "131\n",
      "131\n"
     ]
    },
    {
     "data": {
      "text/plain": [
       "<matplotlib.collections.PathCollection at 0x291ba4ea9e8>"
      ]
     },
     "execution_count": 66,
     "metadata": {},
     "output_type": "execute_result"
    },
    {
     "data": {
      "image/png": "[encoded data removed]",
      "text/plain": [
       "<Figure size 720x720 with 1 Axes>"
      ]
     },
     "metadata": {},
     "output_type": "display_data"
    }
   ],
   "source": [
    "generatedData, prediction = predictValueForFutureYear(decadeData, 10, 2100)\n",
    "\n",
    "x = [x for x in range(1970, len(generatedData) + 1970)]\n",
    "y = generatedData\n",
    "\n",
    "print(len(x))\n",
    "print(len(y))\n",
    "\n",
    "plt.scatter(x, y)"
   ]
  }
 ],
 "metadata": {
  "kernelspec": {
   "display_name": "Python 3",
   "language": "python",
   "name": "python3"
  },
  "language_info": {
   "codemirror_mode": {
    "name": "ipython",
    "version": 3
   },
   "file_extension": ".py",
   "mimetype": "text/x-python",
   "name": "python",
   "nbconvert_exporter": "python",
   "pygments_lexer": "ipython3",
   "version": "3.7.0"
  }
 },
 "nbformat": 4,
 "nbformat_minor": 2
}
